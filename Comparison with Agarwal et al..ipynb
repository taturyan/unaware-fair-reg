{
 "cells": [
  {
   "cell_type": "code",
   "execution_count": 1,
   "id": "a066e4a4",
   "metadata": {},
   "outputs": [],
   "source": [
    "import AgarwalDuduikWu as ADW\n",
    "\n",
    "import numpy as np\n",
    "import pandas as pd\n",
    "import matplotlib.pyplot as plt\n",
    "from scipy.special import softmax\n",
    "import collections\n",
    "import warnings\n",
    "warnings.filterwarnings('ignore')\n",
    "\n",
    "from sklearn.linear_model import LinearRegression, LogisticRegression\n",
    "from sklearn.ensemble import RandomForestClassifier, RandomForestRegressor, GradientBoostingRegressor, GradientBoostingClassifier\n",
    "from sklearn.metrics import mean_squared_error as mse\n",
    "from sklearn.model_selection import train_test_split\n",
    "import xgboost as xgb\n",
    "\n",
    "from FairReg import FairReg\n",
    "from evaluation import get_stats, get_risk_unf_wrt_eps, compare_with_ADW\n",
    "from evaluation_measures import DP_unfairness, prob_unfairness, prob_unfairness_summary, DP_unfairness_summary\n",
    "from plots import plot_distributions_compare, plot_predictions_compare, plot_distributions, plot_predictions, plot_risk_history,plot_unfairness_history,plot_unfairness_vs_risk, plot_risk_unf_compare, plot_risk_unf_wrt_eps\n",
    "from data_prep import get_lawschool_data, get_communities_data, get_frequencies\n",
    "\n",
    "import time"
   ]
  },
  {
   "cell_type": "markdown",
   "id": "211e4fb3",
   "metadata": {},
   "source": [
    "# Communities and Crime"
   ]
  },
  {
   "cell_type": "code",
   "execution_count": 2,
   "id": "4219853d",
   "metadata": {
    "scrolled": false
   },
   "outputs": [
    {
     "name": "stdout",
     "output_type": "stream",
     "text": [
      "1 / 5  : collecting statistics for eps=[0.0016, 0.0016]\n",
      "-----    1 / 3 : Our method: training completed; training time:  0.3999652862548828\n",
      "-----    1 / 3 : ADW: training completed; training time:  526.0108892917633\n",
      "-----    2 / 3 : Our method: training completed; training time:  0.2584991455078125\n",
      "-----    2 / 3 : ADW: training completed; training time:  429.81639218330383\n",
      "-----    3 / 3 : Our method: training completed; training time:  0.34644436836242676\n",
      "-----    3 / 3 : ADW: training completed; training time:  646.9897727966309\n",
      "---------------------------------------------------------\n",
      "2 / 5  : collecting statistics for eps=[0.00032, 0.00032]\n",
      "-----    1 / 3 : Our method: training completed; training time:  0.2671842575073242\n",
      "-----    1 / 3 : ADW: training completed; training time:  447.2577283382416\n",
      "-----    2 / 3 : Our method: training completed; training time:  0.2355794906616211\n",
      "-----    2 / 3 : ADW: training completed; training time:  479.67491698265076\n",
      "-----    3 / 3 : Our method: training completed; training time:  0.30739355087280273\n",
      "-----    3 / 3 : ADW: training completed; training time:  618.9541227817535\n",
      "---------------------------------------------------------\n",
      "3 / 5  : collecting statistics for eps=[6.4e-05, 6.4e-05]\n",
      "-----    1 / 3 : Our method: training completed; training time:  0.2774512767791748\n",
      "-----    1 / 3 : ADW: training completed; training time:  949.2189846038818\n",
      "-----    2 / 3 : Our method: training completed; training time:  0.2824079990386963\n",
      "-----    2 / 3 : ADW: training completed; training time:  605.3564043045044\n",
      "-----    3 / 3 : Our method: training completed; training time:  0.32242441177368164\n",
      "-----    3 / 3 : ADW: training completed; training time:  1049.6624853610992\n",
      "---------------------------------------------------------\n",
      "4 / 5  : collecting statistics for eps=[1.28e-05, 1.28e-05]\n",
      "-----    1 / 3 : Our method: training completed; training time:  0.283463716506958\n",
      "-----    1 / 3 : ADW: training completed; training time:  429.61408281326294\n",
      "-----    2 / 3 : Our method: training completed; training time:  0.28394055366516113\n",
      "-----    2 / 3 : ADW: training completed; training time:  841.2674214839935\n",
      "-----    3 / 3 : Our method: training completed; training time:  0.2724132537841797\n",
      "-----    3 / 3 : ADW: training completed; training time:  633.1972944736481\n",
      "---------------------------------------------------------\n",
      "5 / 5  : collecting statistics for eps=[2.56e-06, 2.56e-06]\n",
      "-----    1 / 3 : Our method: training completed; training time:  0.2781646251678467\n",
      "-----    1 / 3 : ADW: training completed; training time:  676.9441967010498\n",
      "-----    2 / 3 : Our method: training completed; training time:  0.34511303901672363\n",
      "-----    2 / 3 : ADW: training completed; training time:  501.3195912837982\n",
      "-----    3 / 3 : Our method: training completed; training time:  0.2899587154388428\n",
      "-----    3 / 3 : ADW: training completed; training time:  800.8884847164154\n",
      "---------------------------------------------------------\n"
     ]
    }
   ],
   "source": [
    "num=3\n",
    "T=3000\n",
    "\n",
    "eps_list = []\n",
    "for i in range (4,9):\n",
    "    eps_list+=[[5**(-i), 5**(-i)]]\n",
    "\n",
    "results = compare_with_ADW(dataset='communities', \n",
    "            num=num, T=T, eps_list=eps_list, print_details = True, beta='auto', L='auto',\n",
    "            TRAIN_SIZE=0.4, UNLAB_SIZE=0.4, TEST_SIZE=0.2)"
   ]
  },
  {
   "cell_type": "code",
   "execution_count": 3,
   "id": "fbd032a9",
   "metadata": {
    "scrolled": true
   },
   "outputs": [
    {
     "data": {
      "text/plain": [
       "{'base_mse_risk': 0.02295493365075915,\n",
       " 'base_DP': {0: 0.4872770378651145, 1: 0.12960883783928154},\n",
       " 'prob_risk': [0.07317187964617274,\n",
       "  0.07390195373030324,\n",
       "  0.07394957802652086,\n",
       "  0.07381585548500343,\n",
       "  0.07423376212189996],\n",
       " 'mse_risk': [0.025830693622378165,\n",
       "  0.02724062487402662,\n",
       "  0.025694054056544343,\n",
       "  0.02389155935174531,\n",
       "  0.027961626234251167],\n",
       " 'avg_unf': {0: [0.003799089467387993,\n",
       "   0.0035266805414064504,\n",
       "   0.0040547653773450815,\n",
       "   0.004195068086708525,\n",
       "   0.003849118657078931],\n",
       "  1: [0.0010195639465194614,\n",
       "   0.0009464573976937438,\n",
       "   0.0010881798456772744,\n",
       "   0.0011258329689569203,\n",
       "   0.0010329903105259755]},\n",
       " 'sum_unf': {0: [1.2423022558358738,\n",
       "   1.1532245370399095,\n",
       "   1.3259082783918414,\n",
       "   1.3717872643536875,\n",
       "   1.2586618008648107],\n",
       "  1: [0.33339741051186383,\n",
       "   0.3094915690458542,\n",
       "   0.3558348095364686,\n",
       "   0.3681473808489129,\n",
       "   0.33778783154199404]},\n",
       " 'DP_unf': {0: [0.39598576626284426,\n",
       "   0.339980408620207,\n",
       "   0.39141777617848145,\n",
       "   0.4108592219423454,\n",
       "   0.3942965095358042],\n",
       "  1: [0.10627094046670589,\n",
       "   0.09124074863928881,\n",
       "   0.105045026194864,\n",
       "   0.11026253879602865,\n",
       "   0.10581759361344267]},\n",
       " 'ADW_risk': [0.0670228675825099,\n",
       "  0.05834198446512092,\n",
       "  0.06107867840908535,\n",
       "  0.07521551806756671,\n",
       "  0.06308308601202949],\n",
       " 'ADW_unf': {0: [0.046382692344531594,\n",
       "   0.04412431771355541,\n",
       "   0.047433713577680725,\n",
       "   0.05633993090866909,\n",
       "   0.04210070695614465],\n",
       "  1: [0.012447751300129983,\n",
       "   0.011841669929516444,\n",
       "   0.012729814506470321,\n",
       "   0.015119981457917597,\n",
       "   0.011298592282160421]},\n",
       " 'training_time_hist': [0.3999652862548828,\n",
       "  0.2584991455078125,\n",
       "  0.34644436836242676,\n",
       "  0.2671842575073242,\n",
       "  0.2355794906616211,\n",
       "  0.30739355087280273,\n",
       "  0.2774512767791748,\n",
       "  0.2824079990386963,\n",
       "  0.32242441177368164,\n",
       "  0.283463716506958,\n",
       "  0.28394055366516113,\n",
       "  0.2724132537841797,\n",
       "  0.2781646251678467,\n",
       "  0.34511303901672363,\n",
       "  0.2899587154388428],\n",
       " 'ADW_training_time_hist': [526.0108892917633,\n",
       "  429.81639218330383,\n",
       "  646.9897727966309,\n",
       "  447.2577283382416,\n",
       "  479.67491698265076,\n",
       "  618.9541227817535,\n",
       "  949.2189846038818,\n",
       "  605.3564043045044,\n",
       "  1049.6624853610992,\n",
       "  429.61408281326294,\n",
       "  841.2674214839935,\n",
       "  633.1972944736481,\n",
       "  676.9441967010498,\n",
       "  501.3195912837982,\n",
       "  800.8884847164154]}"
      ]
     },
     "execution_count": 3,
     "metadata": {},
     "output_type": "execute_result"
    }
   ],
   "source": [
    "results"
   ]
  },
  {
   "cell_type": "code",
   "execution_count": 17,
   "id": "e3c38fc1",
   "metadata": {},
   "outputs": [
    {
     "data": {
      "image/png": "[encoded data removed]",
      "text/plain": [
       "<Figure size 640x480 with 1 Axes>"
      ]
     },
     "metadata": {},
     "output_type": "display_data"
    }
   ],
   "source": [
    "pairs_list = [[results['avg_unf'], results['prob_risk']],\n",
    "              [results['ADW_unf'], results['ADW_risk']]]\n",
    "model_list = ['unaware-fair','ADW']\n",
    "unf_type_list = ['avg_in_grid','ADW_weighted']\n",
    "risk_type_list = ['prob','ADW_weighted']\n",
    "markers_list = ['o','^']\n",
    "\n",
    "plot_risk_unf_compare(pairs_list=pairs_list, model_list=model_list, unf_type_list=unf_type_list, risk_type_list=risk_type_list, \n",
    "                      markers_list=markers_list, dataset='communities and crime',\n",
    "                      x_label = 'unfairness', y_label = 'risk',\n",
    "                      K=2, colors = ['g', 'orange'], alpha=0.7, annotate = True)"
   ]
  },
  {
   "cell_type": "markdown",
   "id": "ac41b1a2",
   "metadata": {},
   "source": [
    "Training time"
   ]
  },
  {
   "cell_type": "code",
   "execution_count": 18,
   "id": "7641cb10",
   "metadata": {},
   "outputs": [
    {
     "name": "stdout",
     "output_type": "stream",
     "text": [
      "The average training time of our method is  0.29669357935587565 with std of  0.040179571955219484\n"
     ]
    }
   ],
   "source": [
    "print('The average training time of our method is ',np.mean(results['training_time_hist']),'with std of ', np.std(results['training_time_hist']))"
   ]
  },
  {
   "cell_type": "code",
   "execution_count": 20,
   "id": "4484dd94",
   "metadata": {},
   "outputs": [
    {
     "name": "stdout",
     "output_type": "stream",
     "text": [
      "The average training time of ADW method is  642.4115178743998 with std of  185.5385256316741\n"
     ]
    }
   ],
   "source": [
    "print('The average training time of ADW method is ',np.mean(results['ADW_training_time_hist']),'with std of ', np.std(results['ADW_training_time_hist']))"
   ]
  },
  {
   "cell_type": "code",
   "execution_count": 22,
   "id": "ae92821c",
   "metadata": {},
   "outputs": [
    {
     "name": "stdout",
     "output_type": "stream",
     "text": [
      "On average, our method is  2165.2356591911453  times faster than the ADW method\n"
     ]
    }
   ],
   "source": [
    "print('On average, our method is ',np.mean(results['ADW_training_time_hist'])/np.mean(results['training_time_hist']), ' times faster than the ADW method')"
   ]
  },
  {
   "cell_type": "markdown",
   "id": "c6c661af",
   "metadata": {},
   "source": [
    "# Law School"
   ]
  },
  {
   "cell_type": "code",
   "execution_count": null,
   "id": "4da1d8aa",
   "metadata": {},
   "outputs": [],
   "source": [
    "num=3\n",
    "T=3000\n",
    "\n",
    "eps_list = []\n",
    "for i in range (4,9):\n",
    "    eps_list+=[[5**(-i), 5**(-i)]]\n",
    "\n",
    "results = compare_with_ADW(dataset='lawschool', \n",
    "            num=num, T=T, eps_list=eps_list, print_details = True, beta='auto', L='auto',\n",
    "            TRAIN_SIZE=0.4, UNLAB_SIZE=0.4, TEST_SIZE=0.2)"
   ]
  },
  {
   "cell_type": "code",
   "execution_count": null,
   "id": "9669f3cf",
   "metadata": {},
   "outputs": [],
   "source": []
  },
  {
   "cell_type": "code",
   "execution_count": null,
   "id": "e1fc3e5b",
   "metadata": {},
   "outputs": [],
   "source": []
  }
 ],
 "metadata": {
  "kernelspec": {
   "display_name": "Python 3 (ipykernel)",
   "language": "python",
   "name": "python3"
  },
  "language_info": {
   "codemirror_mode": {
    "name": "ipython",
    "version": 3
   },
   "file_extension": ".py",
   "mimetype": "text/x-python",
   "name": "python",
   "nbconvert_exporter": "python",
   "pygments_lexer": "ipython3",
   "version": "3.9.18"
  }
 },
 "nbformat": 4,
 "nbformat_minor": 5
}
