{
 "cells": [
  {
   "cell_type": "code",
   "execution_count": 1,
   "id": "e4d93d63",
   "metadata": {},
   "outputs": [],
   "source": [
    "import AgarwalDuduikWu as ADW\n",
    "\n",
    "import numpy as np\n",
    "import pandas as pd\n",
    "import matplotlib.pyplot as plt\n",
    "from scipy.special import softmax\n",
    "import collections\n",
    "import warnings\n",
    "warnings.filterwarnings('ignore')\n",
    "\n",
    "from sklearn.linear_model import LinearRegression, LogisticRegression\n",
    "from sklearn.ensemble import RandomForestClassifier, RandomForestRegressor, GradientBoostingRegressor, GradientBoostingClassifier\n",
    "from sklearn.metrics import mean_squared_error as mse\n",
    "from sklearn.model_selection import train_test_split\n",
    "import xgboost as xgb\n",
    "\n",
    "from FairReg import FairReg\n",
    "from evaluation import get_stats, get_risk_unf_wrt_eps, compare_with_ADW\n",
    "from evaluation_measures import DP_unfairness, prob_unfairness, prob_unfairness_summary, DP_unfairness_summary\n",
    "from plots import plot_distributions_compare, plot_predictions_compare, plot_distributions, plot_predictions, plot_risk_history,plot_unfairness_history,plot_unfairness_vs_risk, plot_risk_unf_compare, plot_risk_unf_wrt_eps\n",
    "from data_prep import get_lawschool_data, get_communities_data, get_frequencies\n",
    "\n",
    "import time"
   ]
  },
  {
   "cell_type": "markdown",
   "id": "19f27a8c",
   "metadata": {},
   "source": [
    "# Communities and Crime"
   ]
  },
  {
   "cell_type": "code",
   "execution_count": 2,
   "id": "681e3a91",
   "metadata": {
    "scrolled": false
   },
   "outputs": [
    {
     "name": "stdout",
     "output_type": "stream",
     "text": [
      "1 / 5  : collecting statistics for eps=[0.0016, 0.0016]\n",
      "-----    1 / 3 : Our method: training completed; training time:  0.23316669464111328\n",
      "-----    1 / 3 : ADW: training completed; training time:  584.0104594230652\n",
      "-----    2 / 3 : Our method: training completed; training time:  0.24430012702941895\n",
      "-----    2 / 3 : ADW: training completed; training time:  424.50834250450134\n",
      "-----    3 / 3 : Our method: training completed; training time:  0.29262661933898926\n",
      "-----    3 / 3 : ADW: training completed; training time:  1118.6847949028015\n",
      "---------------------------------------------------------\n",
      "2 / 5  : collecting statistics for eps=[0.00032, 0.00032]\n",
      "-----    1 / 3 : Our method: training completed; training time:  0.2992720603942871\n",
      "-----    1 / 3 : ADW: training completed; training time:  660.3063607215881\n",
      "-----    2 / 3 : Our method: training completed; training time:  0.23127293586730957\n",
      "-----    2 / 3 : ADW: training completed; training time:  448.5400240421295\n",
      "-----    3 / 3 : Our method: training completed; training time:  0.30954885482788086\n",
      "-----    3 / 3 : ADW: training completed; training time:  1060.643832206726\n",
      "---------------------------------------------------------\n",
      "3 / 5  : collecting statistics for eps=[6.4e-05, 6.4e-05]\n",
      "-----    1 / 3 : Our method: training completed; training time:  0.3104720115661621\n",
      "-----    1 / 3 : ADW: training completed; training time:  573.2132751941681\n",
      "-----    2 / 3 : Our method: training completed; training time:  0.25373053550720215\n",
      "-----    2 / 3 : ADW: training completed; training time:  454.3991229534149\n",
      "-----    3 / 3 : Our method: training completed; training time:  0.3040904998779297\n",
      "-----    3 / 3 : ADW: training completed; training time:  1524.1982085704803\n",
      "---------------------------------------------------------\n",
      "4 / 5  : collecting statistics for eps=[1.28e-05, 1.28e-05]\n",
      "-----    1 / 3 : Our method: training completed; training time:  0.24199700355529785\n",
      "-----    1 / 3 : ADW: training completed; training time:  576.2911417484283\n",
      "-----    2 / 3 : Our method: training completed; training time:  0.2556462287902832\n",
      "-----    2 / 3 : ADW: training completed; training time:  451.00297260284424\n",
      "-----    3 / 3 : Our method: training completed; training time:  0.2741692066192627\n",
      "-----    3 / 3 : ADW: training completed; training time:  1063.1152465343475\n",
      "---------------------------------------------------------\n",
      "5 / 5  : collecting statistics for eps=[2.56e-06, 2.56e-06]\n",
      "-----    1 / 3 : Our method: training completed; training time:  0.26189541816711426\n",
      "-----    1 / 3 : ADW: training completed; training time:  577.0113046169281\n",
      "-----    2 / 3 : Our method: training completed; training time:  0.2675490379333496\n",
      "-----    2 / 3 : ADW: training completed; training time:  457.33535861968994\n",
      "-----    3 / 3 : Our method: training completed; training time:  0.25878024101257324\n",
      "-----    3 / 3 : ADW: training completed; training time:  1060.0832223892212\n",
      "---------------------------------------------------------\n"
     ]
    }
   ],
   "source": [
    "num=3\n",
    "T=3000\n",
    "\n",
    "eps_list = []\n",
    "for i in range (4,9):\n",
    "    eps_list+=[[5**(-i), 5**(-i)]]\n",
    "\n",
    "results = compare_with_ADW(dataset='communities', \n",
    "            num=num, T=T, eps_list=eps_list, print_details = True, beta='auto', L='auto',\n",
    "            TRAIN_SIZE=0.4, UNLAB_SIZE=0.4, TEST_SIZE=0.2)"
   ]
  },
  {
   "cell_type": "code",
   "execution_count": 3,
   "id": "f5c37bea",
   "metadata": {
    "scrolled": true
   },
   "outputs": [
    {
     "data": {
      "text/plain": [
       "{'base_mse_risk': 0.021805106106686862,\n",
       " 'base_DP': {0: 0.4962330035961089, 1: 0.13168132231253712},\n",
       " 'prob_risk': [0.09454784000034473,\n",
       "  0.09543389153168423,\n",
       "  0.09555870870210714,\n",
       "  0.0957785007758999,\n",
       "  0.09555958811280085],\n",
       " 'mse_risk': [0.023773364131304858,\n",
       "  0.024525138700288746,\n",
       "  0.024897616785240006,\n",
       "  0.0250004801673272,\n",
       "  0.024856971294770224],\n",
       " 'avg_unf': {0: [0.004071932793308741,\n",
       "   0.0037841335122975645,\n",
       "   0.00373995057521075,\n",
       "   0.003680408483525016,\n",
       "   0.003731550156158622],\n",
       "  1: [0.001092787075520557,\n",
       "   0.0010155502077731488,\n",
       "   0.001003692806126846,\n",
       "   0.0009877134588373848,\n",
       "   0.0010014383805665307]},\n",
       " 'sum_unf': {0: [1.3315220234119582,\n",
       "   1.2374116585213035,\n",
       "   1.2229638380939152,\n",
       "   1.20349357411268,\n",
       "   1.2202169010638693],\n",
       "  1: [0.35734137369522206,\n",
       "   0.3320849179418197,\n",
       "   0.3282075476034787,\n",
       "   0.32298230103982484,\n",
       "   0.32747035044525563]},\n",
       " 'DP_unf': {0: [0.457198832513694,\n",
       "   0.3722562072688018,\n",
       "   0.4129383071448563,\n",
       "   0.3589520610931191,\n",
       "   0.3597417136459958],\n",
       "  1: [0.12269872821453776,\n",
       "   0.09990262431494985,\n",
       "   0.11082050415389104,\n",
       "   0.0963321825297827,\n",
       "   0.09654410206474007]},\n",
       " 'ADW_risk': [0.05658278201040217,\n",
       "  0.05958532328464256,\n",
       "  0.060746515823551145,\n",
       "  0.06074651582355119,\n",
       "  0.060746515823551124],\n",
       " 'ADW_unf': {0: [0.0795209273517814,\n",
       "   0.07921527657869565,\n",
       "   0.07861508497577226,\n",
       "   0.0786150849757723,\n",
       "   0.07861508497577223],\n",
       "  1: [0.021341079544886694,\n",
       "   0.02125905186137537,\n",
       "   0.021097978076565143,\n",
       "   0.021097978076564845,\n",
       "   0.021097978076565067]},\n",
       " 'training_time_hist': [0.23316669464111328,\n",
       "  0.24430012702941895,\n",
       "  0.29262661933898926,\n",
       "  0.2992720603942871,\n",
       "  0.23127293586730957,\n",
       "  0.30954885482788086,\n",
       "  0.3104720115661621,\n",
       "  0.25373053550720215,\n",
       "  0.3040904998779297,\n",
       "  0.24199700355529785,\n",
       "  0.2556462287902832,\n",
       "  0.2741692066192627,\n",
       "  0.26189541816711426,\n",
       "  0.2675490379333496,\n",
       "  0.25878024101257324],\n",
       " 'ADW_training_time_hist': [584.0104594230652,\n",
       "  424.50834250450134,\n",
       "  1118.6847949028015,\n",
       "  660.3063607215881,\n",
       "  448.5400240421295,\n",
       "  1060.643832206726,\n",
       "  573.2132751941681,\n",
       "  454.3991229534149,\n",
       "  1524.1982085704803,\n",
       "  576.2911417484283,\n",
       "  451.00297260284424,\n",
       "  1063.1152465343475,\n",
       "  577.0113046169281,\n",
       "  457.33535861968994,\n",
       "  1060.0832223892212]}"
      ]
     },
     "execution_count": 3,
     "metadata": {},
     "output_type": "execute_result"
    }
   ],
   "source": [
    "results"
   ]
  },
  {
   "cell_type": "code",
   "execution_count": 4,
   "id": "593ea330",
   "metadata": {},
   "outputs": [
    {
     "data": {
      "image/png": "[encoded data removed]",
      "text/plain": [
       "<Figure size 640x480 with 1 Axes>"
      ]
     },
     "metadata": {},
     "output_type": "display_data"
    }
   ],
   "source": [
    "pairs_list = [[results['avg_unf'], results['prob_risk']],\n",
    "              [results['ADW_unf'], results['ADW_risk']]]\n",
    "model_list = ['unaware-fair','ADW']\n",
    "unf_type_list = ['avg_in_grid','ADW_weighted']\n",
    "risk_type_list = ['prob','ADW_weighted']\n",
    "markers_list = ['o','^']\n",
    "\n",
    "plot_risk_unf_compare(pairs_list=pairs_list, model_list=model_list, unf_type_list=unf_type_list, risk_type_list=risk_type_list, \n",
    "                      markers_list=markers_list, dataset='communities and crime',\n",
    "                      x_label = 'unfairness', y_label = 'risk',\n",
    "                      K=2, colors = ['g', 'orange'], alpha=0.7, annotate = True)"
   ]
  },
  {
   "cell_type": "markdown",
   "id": "a5902df0",
   "metadata": {},
   "source": [
    "Training time"
   ]
  },
  {
   "cell_type": "code",
   "execution_count": 5,
   "id": "20ec00a3",
   "metadata": {},
   "outputs": [
    {
     "name": "stdout",
     "output_type": "stream",
     "text": [
      "The average training time of our method is  0.26923449834187824 with std of  0.026722147458192742\n"
     ]
    }
   ],
   "source": [
    "print('The average training time of our method is ',np.mean(results['training_time_hist']),'with std of ', np.std(results['training_time_hist']))"
   ]
  },
  {
   "cell_type": "code",
   "execution_count": 6,
   "id": "80fe44ab",
   "metadata": {},
   "outputs": [
    {
     "name": "stdout",
     "output_type": "stream",
     "text": [
      "The average training time of ADW method is  735.556244468689 with std of  327.52403210635674\n"
     ]
    }
   ],
   "source": [
    "print('The average training time of ADW method is ',np.mean(results['ADW_training_time_hist']),'with std of ', np.std(results['ADW_training_time_hist']))"
   ]
  },
  {
   "cell_type": "code",
   "execution_count": 7,
   "id": "23e4c5f1",
   "metadata": {},
   "outputs": [
    {
     "name": "stdout",
     "output_type": "stream",
     "text": [
      "On average, our method is  2732.0282096043575  times faster than the ADW method\n"
     ]
    }
   ],
   "source": [
    "print('On average, our method is ',np.mean(results['ADW_training_time_hist'])/np.mean(results['training_time_hist']), ' times faster than the ADW method')"
   ]
  },
  {
   "cell_type": "markdown",
   "id": "d7c8c77b",
   "metadata": {},
   "source": [
    "# Law School"
   ]
  },
  {
   "cell_type": "code",
   "execution_count": 8,
   "id": "44fc7ed2",
   "metadata": {},
   "outputs": [
    {
     "name": "stdout",
     "output_type": "stream",
     "text": [
      "1 / 5  : collecting statistics for eps=[0.0016, 0.0016]\n",
      "-----    1 / 3 : Our method: training completed; training time:  0.24400949478149414\n",
      "-----    1 / 3 : ADW: training completed; training time:  498.0410554409027\n",
      "-----    2 / 3 : Our method: training completed; training time:  0.3038156032562256\n",
      "-----    2 / 3 : ADW: training completed; training time:  414.3711476325989\n",
      "-----    3 / 3 : Our method: training completed; training time:  0.2672271728515625\n",
      "-----    3 / 3 : ADW: training completed; training time:  457.38985443115234\n",
      "---------------------------------------------------------\n",
      "2 / 5  : collecting statistics for eps=[0.00032, 0.00032]\n",
      "-----    1 / 3 : Our method: training completed; training time:  0.2643601894378662\n",
      "-----    1 / 3 : ADW: training completed; training time:  488.98922061920166\n",
      "-----    2 / 3 : Our method: training completed; training time:  0.29204583168029785\n",
      "-----    2 / 3 : ADW: training completed; training time:  411.04421854019165\n",
      "-----    3 / 3 : Our method: training completed; training time:  0.2506062984466553\n",
      "-----    3 / 3 : ADW: training completed; training time:  453.7770140171051\n",
      "---------------------------------------------------------\n",
      "3 / 5  : collecting statistics for eps=[6.4e-05, 6.4e-05]\n",
      "-----    1 / 3 : Our method: training completed; training time:  0.25458550453186035\n",
      "-----    1 / 3 : ADW: training completed; training time:  500.6711299419403\n",
      "-----    2 / 3 : Our method: training completed; training time:  0.2608966827392578\n",
      "-----    2 / 3 : ADW: training completed; training time:  416.8444437980652\n",
      "-----    3 / 3 : Our method: training completed; training time:  0.26723384857177734\n",
      "-----    3 / 3 : ADW: training completed; training time:  454.04584074020386\n",
      "---------------------------------------------------------\n",
      "4 / 5  : collecting statistics for eps=[1.28e-05, 1.28e-05]\n",
      "-----    1 / 3 : Our method: training completed; training time:  0.3008453845977783\n",
      "-----    1 / 3 : ADW: training completed; training time:  491.209192276001\n",
      "-----    2 / 3 : Our method: training completed; training time:  0.3011624813079834\n",
      "-----    2 / 3 : ADW: training completed; training time:  407.96090722084045\n",
      "-----    3 / 3 : Our method: training completed; training time:  0.26291322708129883\n",
      "-----    3 / 3 : ADW: training completed; training time:  445.4061155319214\n",
      "---------------------------------------------------------\n",
      "5 / 5  : collecting statistics for eps=[2.56e-06, 2.56e-06]\n",
      "-----    1 / 3 : Our method: training completed; training time:  0.28608226776123047\n",
      "-----    1 / 3 : ADW: training completed; training time:  487.1996467113495\n",
      "-----    2 / 3 : Our method: training completed; training time:  0.26409912109375\n",
      "-----    2 / 3 : ADW: training completed; training time:  410.35359811782837\n",
      "-----    3 / 3 : Our method: training completed; training time:  0.28760790824890137\n",
      "-----    3 / 3 : ADW: training completed; training time:  452.4849925041199\n",
      "---------------------------------------------------------\n"
     ]
    }
   ],
   "source": [
    "num=3\n",
    "T=3000\n",
    "\n",
    "eps_list = []\n",
    "for i in range (4,9):\n",
    "    eps_list+=[[5**(-i), 5**(-i)]]\n",
    "\n",
    "results_law = compare_with_ADW(dataset='lawschool', \n",
    "            num=num, T=T, eps_list=eps_list, print_details = True, beta='auto', L='auto',\n",
    "            TRAIN_SIZE=0.4, UNLAB_SIZE=0.4, TEST_SIZE=0.2)"
   ]
  },
  {
   "cell_type": "code",
   "execution_count": 9,
   "id": "f1f7fd59",
   "metadata": {},
   "outputs": [
    {
     "data": {
      "text/plain": [
       "{'base_mse_risk': 0.010818580849267264,\n",
       " 'base_DP': {0: 0.2691666666666666, 1: 0.04937376725838267},\n",
       " 'prob_risk': [0.0634388088124116,\n",
       "  0.06345881823560978,\n",
       "  0.0634340681966163,\n",
       "  0.06343751928375867,\n",
       "  0.0634864890588199],\n",
       " 'mse_risk': [0.01068509587905807,\n",
       "  0.010682180927069046,\n",
       "  0.01070498613968907,\n",
       "  0.01071241640946502,\n",
       "  0.010687296382030179],\n",
       " 'avg_unf': {0: [0.000565745173338274,\n",
       "   0.0005221774055392728,\n",
       "   0.0005509972512964654,\n",
       "   0.0004643186276971026,\n",
       "   0.0004989836355973641],\n",
       "  1: [0.00010377574185494908,\n",
       "   9.57840211344231e-05,\n",
       "   0.00010107050171710327,\n",
       "   8.517087253615457e-05,\n",
       "   9.152954262436825e-05]},\n",
       " 'sum_unf': {0: [0.18499867168161557,\n",
       "   0.17075201161134226,\n",
       "   0.18017610117394417,\n",
       "   0.15183219125695252,\n",
       "   0.16316764884033808],\n",
       "  1: [0.03393466758656835,\n",
       "   0.03132137491095635,\n",
       "   0.033050054061492765,\n",
       "   0.027850875319322545,\n",
       "   0.029930160438168412]},\n",
       " 'DP_unf': {0: [0.18301075268817205,\n",
       "   0.17720430107526877,\n",
       "   0.17884408602150534,\n",
       "   0.17349462365591398,\n",
       "   0.17905913978494617],\n",
       "  1: [0.03357001972386586,\n",
       "   0.03250493096646948,\n",
       "   0.03280571992110456,\n",
       "   0.03182445759368835,\n",
       "   0.03284516765286002]},\n",
       " 'ADW_risk': [0.020832785147373606,\n",
       "  0.02083278514737361,\n",
       "  0.020832785147373602,\n",
       "  0.020832785147373606,\n",
       "  0.020832785147373606],\n",
       " 'ADW_unf': {0: [0.03383892134011912,\n",
       "   0.033838921340119114,\n",
       "   0.0338389213401192,\n",
       "   0.03383892134011917,\n",
       "   0.033838921340119114],\n",
       "  1: [0.0062071394174182766,\n",
       "   0.006207139417418285,\n",
       "   0.006207139417418267,\n",
       "   0.006207139417418378,\n",
       "   0.006207139417418295]},\n",
       " 'training_time_hist': [0.24400949478149414,\n",
       "  0.3038156032562256,\n",
       "  0.2672271728515625,\n",
       "  0.2643601894378662,\n",
       "  0.29204583168029785,\n",
       "  0.2506062984466553,\n",
       "  0.25458550453186035,\n",
       "  0.2608966827392578,\n",
       "  0.26723384857177734,\n",
       "  0.3008453845977783,\n",
       "  0.3011624813079834,\n",
       "  0.26291322708129883,\n",
       "  0.28608226776123047,\n",
       "  0.26409912109375,\n",
       "  0.28760790824890137],\n",
       " 'ADW_training_time_hist': [498.0410554409027,\n",
       "  414.3711476325989,\n",
       "  457.38985443115234,\n",
       "  488.98922061920166,\n",
       "  411.04421854019165,\n",
       "  453.7770140171051,\n",
       "  500.6711299419403,\n",
       "  416.8444437980652,\n",
       "  454.04584074020386,\n",
       "  491.209192276001,\n",
       "  407.96090722084045,\n",
       "  445.4061155319214,\n",
       "  487.1996467113495,\n",
       "  410.35359811782837,\n",
       "  452.4849925041199]}"
      ]
     },
     "execution_count": 9,
     "metadata": {},
     "output_type": "execute_result"
    }
   ],
   "source": [
    "results_law"
   ]
  },
  {
   "cell_type": "code",
   "execution_count": 10,
   "id": "d71cb628",
   "metadata": {},
   "outputs": [
    {
     "data": {
      "image/png": "[encoded data removed]",
      "text/plain": [
       "<Figure size 640x480 with 1 Axes>"
      ]
     },
     "metadata": {},
     "output_type": "display_data"
    }
   ],
   "source": [
    "pairs_list = [[results_law['avg_unf'], results_law['prob_risk']],\n",
    "              [results_law['ADW_unf'], results_law['ADW_risk']]]\n",
    "model_list = ['unaware-fair','ADW']\n",
    "unf_type_list = ['avg_in_grid','ADW_weighted']\n",
    "risk_type_list = ['prob','ADW_weighted']\n",
    "markers_list = ['o','^']\n",
    "\n",
    "plot_risk_unf_compare(pairs_list=pairs_list, model_list=model_list, unf_type_list=unf_type_list, risk_type_list=risk_type_list, \n",
    "                      markers_list=markers_list, dataset='lawschool',\n",
    "                      x_label = 'unfairness', y_label = 'risk',\n",
    "                      K=2, colors = ['g', 'orange'], alpha=0.7, annotate = True)"
   ]
  },
  {
   "cell_type": "markdown",
   "id": "aa2661bb",
   "metadata": {},
   "source": [
    "Training time"
   ]
  },
  {
   "cell_type": "code",
   "execution_count": 11,
   "id": "7e0e312f",
   "metadata": {},
   "outputs": [
    {
     "name": "stdout",
     "output_type": "stream",
     "text": [
      "The average training time of our method is  0.27383273442586265 with std of  0.018981870488398674\n"
     ]
    }
   ],
   "source": [
    "print('The average training time of our method is ',np.mean(results_law['training_time_hist']),'with std of ', np.std(results_law['training_time_hist']))"
   ]
  },
  {
   "cell_type": "code",
   "execution_count": 12,
   "id": "b48bca89",
   "metadata": {},
   "outputs": [
    {
     "name": "stdout",
     "output_type": "stream",
     "text": [
      "The average training time of ADW method is  452.6525585015615 with std of  33.37667948378871\n"
     ]
    }
   ],
   "source": [
    "print('The average training time of ADW method is ',np.mean(results_law['ADW_training_time_hist']),'with std of ', np.std(results_law['ADW_training_time_hist']))"
   ]
  },
  {
   "cell_type": "code",
   "execution_count": 13,
   "id": "b6f1cba1",
   "metadata": {},
   "outputs": [
    {
     "name": "stdout",
     "output_type": "stream",
     "text": [
      "On average, our method is  1653.025740149823  times faster than the ADW method\n"
     ]
    }
   ],
   "source": [
    "print('On average, our method is ',np.mean(results_law['ADW_training_time_hist'])/np.mean(results_law['training_time_hist']), ' times faster than the ADW method')"
   ]
  },
  {
   "cell_type": "code",
   "execution_count": null,
   "id": "ae494f56",
   "metadata": {},
   "outputs": [],
   "source": []
  }
 ],
 "metadata": {
  "kernelspec": {
   "display_name": "Python 3 (ipykernel)",
   "language": "python",
   "name": "python3"
  },
  "language_info": {
   "codemirror_mode": {
    "name": "ipython",
    "version": 3
   },
   "file_extension": ".py",
   "mimetype": "text/x-python",
   "name": "python",
   "nbconvert_exporter": "python",
   "pygments_lexer": "ipython3",
   "version": "3.9.18"
  }
 },
 "nbformat": 4,
 "nbformat_minor": 5
}
