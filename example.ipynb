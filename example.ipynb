{
 "cells": [
  {
   "cell_type": "code",
   "execution_count": 1,
   "id": "b1837880",
   "metadata": {},
   "outputs": [],
   "source": [
    "import numpy as np\n",
    "import pandas as pd\n",
    "import matplotlib.pyplot as plt\n",
    "from scipy.special import softmax\n",
    "import collections\n",
    "import warnings\n",
    "warnings.filterwarnings('ignore')\n",
    "\n",
    "from sklearn.linear_model import LinearRegression, LogisticRegression\n",
    "from sklearn.ensemble import RandomForestClassifier, RandomForestRegressor, GradientBoostingRegressor, GradientBoostingClassifier\n",
    "from sklearn.metrics import mean_squared_error as mse\n",
    "from sklearn.model_selection import train_test_split\n",
    "import xgboost as xgb\n",
    "\n",
    "from FairReg import FairReg\n",
    "from evaluation import get_stats, get_risk_unf_wrt_eps\n",
    "from evaluation_measures import DP_unfairness, prob_unfairness, prob_unfairness_summary, DP_unfairness_summary\n",
    "from plots import plot_distributions_compare, plot_predictions_compare, plot_distributions, plot_predictions, plot_risk_history,plot_unfairness_history,plot_unfairness_vs_risk, plot_risk_unf_compare, plot_risk_unf_wrt_eps\n",
    "from data_prep import get_lawschool_data, get_communities_data, get_frequencies"
   ]
  },
  {
   "cell_type": "code",
   "execution_count": 2,
   "id": "481c2c59",
   "metadata": {
    "scrolled": true
   },
   "outputs": [
    {
     "name": "stdout",
     "output_type": "stream",
     "text": [
      "1 / 4  : collecting statistics for eps=[1, 1]\n",
      "S1: 9\n",
      "N1: 0\n",
      "K1: -5\n",
      "N1: 0\n",
      "K1: -4\n",
      "N1: 0\n",
      "K1: -3\n",
      "N1: 0\n",
      "K1: -2\n",
      "N1: 0\n",
      "K1: -1\n",
      "N1: 1\n",
      "K1: 0\n",
      "N1: 2\n",
      "K1: 1\n",
      "N1: 4\n",
      "K1: 2\n",
      "N1: 9\n",
      "K1: 3\n",
      "stoch_grad counter:  2483\n",
      "-----    1 / 1 : training completed, statistics collected\n",
      "---------------------------------------------------------\n",
      "2 / 4  : collecting statistics for eps=[0.25, 0.25]\n",
      "S1: 9\n",
      "N1: 0\n",
      "K1: -5\n",
      "N1: 0\n",
      "K1: -4\n",
      "N1: 0\n",
      "K1: -3\n",
      "N1: 0\n",
      "K1: -2\n",
      "N1: 0\n",
      "K1: -1\n",
      "N1: 1\n",
      "K1: 0\n",
      "N1: 2\n",
      "K1: 1\n",
      "N1: 4\n",
      "K1: 2\n",
      "N1: 9\n",
      "K1: 3\n",
      "stoch_grad counter:  2483\n",
      "-----    1 / 1 : training completed, statistics collected\n",
      "---------------------------------------------------------\n",
      "3 / 4  : collecting statistics for eps=[0.0625, 0.0625]\n",
      "S1: 9\n",
      "N1: 0\n",
      "K1: -5\n",
      "N1: 0\n",
      "K1: -4\n",
      "N1: 0\n",
      "K1: -3\n",
      "N1: 0\n",
      "K1: -2\n",
      "N1: 0\n",
      "K1: -1\n",
      "N1: 1\n",
      "K1: 0\n",
      "N1: 2\n",
      "K1: 1\n",
      "N1: 4\n",
      "K1: 2\n",
      "N1: 9\n",
      "K1: 3\n",
      "stoch_grad counter:  2483\n",
      "-----    1 / 1 : training completed, statistics collected\n",
      "---------------------------------------------------------\n",
      "4 / 4  : collecting statistics for eps=[0.00390625, 0.00390625]\n",
      "S1: 9\n",
      "N1: 0\n",
      "K1: -5\n",
      "N1: 0\n",
      "K1: -4\n",
      "N1: 0\n",
      "K1: -3\n",
      "N1: 0\n",
      "K1: -2\n",
      "N1: 0\n",
      "K1: -1\n",
      "N1: 1\n",
      "K1: 0\n",
      "N1: 2\n",
      "K1: 1\n",
      "N1: 4\n",
      "K1: 2\n",
      "N1: 9\n",
      "K1: 3\n",
      "stoch_grad counter:  2483\n",
      "-----    1 / 1 : training completed, statistics collected\n",
      "---------------------------------------------------------\n"
     ]
    }
   ],
   "source": [
    "eps_list = []\n",
    "#i_list = [0, 0.5, 1, 2, 4, 8, 16, 32]\n",
    "i_list = [0, 2, 4, 8]\n",
    "for i in i_list:\n",
    "    eps_list+=[[2**(-i), 2**(-i)]]\n",
    "num=1\n",
    "T=793\n",
    "\n",
    "results_crime = get_risk_unf_wrt_eps(dataset='communities', num=num, T=T, eps_list=eps_list, \n",
    "                                     print_details = True, beta='auto', L='auto', \n",
    "                                     TRAIN_SIZE=0.4, UNLAB_SIZE=0.4, TEST_SIZE=0.2)"
   ]
  },
  {
   "cell_type": "code",
   "execution_count": 3,
   "id": "d8973d18",
   "metadata": {},
   "outputs": [
    {
     "data": {
      "image/png": "[encoded data removed]",
      "text/plain": [
       "<Figure size 640x480 with 1 Axes>"
      ]
     },
     "metadata": {},
     "output_type": "display_data"
    }
   ],
   "source": [
    "pairs_list = [[results_crime['unf'], results_crime['risk']], [results_crime['base_DP'], results_crime['base_risk']]]\n",
    "model_list = ['fair', 'base']\n",
    "unf_type_list = ['DP', 'DP']\n",
    "risk_type_list = ['prob', 'mse']\n",
    "markers_list = ['s','x']\n",
    "\n",
    "plot_risk_unf_compare(pairs_list=pairs_list, model_list=model_list, unf_type_list=unf_type_list, risk_type_list=risk_type_list, \n",
    "                      markers_list=markers_list, dataset='communities and crime',\n",
    "                      x_label = 'unfairness', y_label = 'risk',\n",
    "                      K=2, colors = ['g', 'orange'], alpha=0.7, annotate = True, loglog=False)"
   ]
  },
  {
   "cell_type": "code",
   "execution_count": null,
   "id": "60fb0643",
   "metadata": {},
   "outputs": [],
   "source": []
  }
 ],
 "metadata": {
  "kernelspec": {
   "display_name": "Python 3 (ipykernel)",
   "language": "python",
   "name": "python3"
  },
  "language_info": {
   "codemirror_mode": {
    "name": "ipython",
    "version": 3
   },
   "file_extension": ".py",
   "mimetype": "text/x-python",
   "name": "python",
   "nbconvert_exporter": "python",
   "pygments_lexer": "ipython3",
   "version": "3.9.18"
  }
 },
 "nbformat": 4,
 "nbformat_minor": 5
}
